{
 "cells": [
  {
   "cell_type": "code",
   "execution_count": 1,
   "metadata": {},
   "outputs": [],
   "source": [
    "#Data Analysis \n",
    "import pyspark\n",
    "import pandas as pd\n",
    "import numpy as np\n"
   ]
  },
  {
   "cell_type": "code",
   "execution_count": 2,
   "metadata": {},
   "outputs": [],
   "source": [
    "#Data Visualization\n",
    "\n",
    "import seaborn as sns\n",
    "import matplotlib.pyplot as plt\n"
   ]
  },
  {
   "cell_type": "code",
   "execution_count": 3,
   "metadata": {},
   "outputs": [
    {
     "name": "stderr",
     "output_type": "stream",
     "text": [
      "/anaconda3/lib/python3.6/site-packages/sklearn/ensemble/weight_boosting.py:29: DeprecationWarning: numpy.core.umath_tests is an internal NumPy module and should not be imported. It will be removed in a future NumPy release.\n",
      "  from numpy.core.umath_tests import inner1d\n"
     ]
    }
   ],
   "source": [
    "#Machine Learning\n",
    "\n",
    "from sklearn import linear_model\n",
    "from sklearn.model_selection import train_test_split\n",
    "from sklearn.preprocessing import StandardScaler\n",
    "from sklearn.decomposition import PCA \n",
    "from sklearn import ensemble\n",
    "from sklearn.model_selection import cross_val_score\n",
    "from sklearn.feature_selection import RFE\n",
    "from sklearn.linear_model import LogisticRegression\n",
    "from sklearn.ensemble import AdaBoostClassifier\n",
    "from sklearn.tree import DecisionTreeClassifier"
   ]
  },
  {
   "cell_type": "code",
   "execution_count": 4,
   "metadata": {},
   "outputs": [
    {
     "data": {
      "text/html": [
       "<div>\n",
       "<style scoped>\n",
       "    .dataframe tbody tr th:only-of-type {\n",
       "        vertical-align: middle;\n",
       "    }\n",
       "\n",
       "    .dataframe tbody tr th {\n",
       "        vertical-align: top;\n",
       "    }\n",
       "\n",
       "    .dataframe thead th {\n",
       "        text-align: right;\n",
       "    }\n",
       "</style>\n",
       "<table border=\"1\" class=\"dataframe\">\n",
       "  <thead>\n",
       "    <tr style=\"text-align: right;\">\n",
       "      <th></th>\n",
       "      <th>ID</th>\n",
       "      <th>name</th>\n",
       "      <th>category</th>\n",
       "      <th>main_category</th>\n",
       "      <th>currency</th>\n",
       "      <th>deadline</th>\n",
       "      <th>goal</th>\n",
       "      <th>launched</th>\n",
       "      <th>pledged</th>\n",
       "      <th>state</th>\n",
       "      <th>backers</th>\n",
       "      <th>country</th>\n",
       "      <th>usd pledged</th>\n",
       "      <th>Unnamed: 13</th>\n",
       "      <th>Unnamed: 14</th>\n",
       "      <th>Unnamed: 15</th>\n",
       "      <th>Unnamed: 16</th>\n",
       "    </tr>\n",
       "  </thead>\n",
       "  <tbody>\n",
       "    <tr>\n",
       "      <th>0</th>\n",
       "      <td>1000002330</td>\n",
       "      <td>The Songs of Adelaide &amp; Abullah</td>\n",
       "      <td>Poetry</td>\n",
       "      <td>Publishing</td>\n",
       "      <td>GBP</td>\n",
       "      <td>2015-10-09 11:36:00</td>\n",
       "      <td>1000</td>\n",
       "      <td>2015-08-11 12:12:28</td>\n",
       "      <td>0</td>\n",
       "      <td>failed</td>\n",
       "      <td>0</td>\n",
       "      <td>GB</td>\n",
       "      <td>0</td>\n",
       "      <td>NaN</td>\n",
       "      <td>NaN</td>\n",
       "      <td>NaN</td>\n",
       "      <td>NaN</td>\n",
       "    </tr>\n",
       "    <tr>\n",
       "      <th>1</th>\n",
       "      <td>1000004038</td>\n",
       "      <td>Where is Hank?</td>\n",
       "      <td>Narrative Film</td>\n",
       "      <td>Film &amp; Video</td>\n",
       "      <td>USD</td>\n",
       "      <td>2013-02-26 00:20:50</td>\n",
       "      <td>45000</td>\n",
       "      <td>2013-01-12 00:20:50</td>\n",
       "      <td>220</td>\n",
       "      <td>failed</td>\n",
       "      <td>3</td>\n",
       "      <td>US</td>\n",
       "      <td>220</td>\n",
       "      <td>NaN</td>\n",
       "      <td>NaN</td>\n",
       "      <td>NaN</td>\n",
       "      <td>NaN</td>\n",
       "    </tr>\n",
       "    <tr>\n",
       "      <th>2</th>\n",
       "      <td>1000007540</td>\n",
       "      <td>ToshiCapital Rekordz Needs Help to Complete Album</td>\n",
       "      <td>Music</td>\n",
       "      <td>Music</td>\n",
       "      <td>USD</td>\n",
       "      <td>2012-04-16 04:24:11</td>\n",
       "      <td>5000</td>\n",
       "      <td>2012-03-17 03:24:11</td>\n",
       "      <td>1</td>\n",
       "      <td>failed</td>\n",
       "      <td>1</td>\n",
       "      <td>US</td>\n",
       "      <td>1</td>\n",
       "      <td>NaN</td>\n",
       "      <td>NaN</td>\n",
       "      <td>NaN</td>\n",
       "      <td>NaN</td>\n",
       "    </tr>\n",
       "    <tr>\n",
       "      <th>3</th>\n",
       "      <td>1000011046</td>\n",
       "      <td>Community Film Project: The Art of Neighborhoo...</td>\n",
       "      <td>Film &amp; Video</td>\n",
       "      <td>Film &amp; Video</td>\n",
       "      <td>USD</td>\n",
       "      <td>2015-08-29 01:00:00</td>\n",
       "      <td>19500</td>\n",
       "      <td>2015-07-04 08:35:03</td>\n",
       "      <td>1283</td>\n",
       "      <td>canceled</td>\n",
       "      <td>14</td>\n",
       "      <td>US</td>\n",
       "      <td>1283</td>\n",
       "      <td>NaN</td>\n",
       "      <td>NaN</td>\n",
       "      <td>NaN</td>\n",
       "      <td>NaN</td>\n",
       "    </tr>\n",
       "    <tr>\n",
       "      <th>4</th>\n",
       "      <td>1000014025</td>\n",
       "      <td>Monarch Espresso Bar</td>\n",
       "      <td>Restaurants</td>\n",
       "      <td>Food</td>\n",
       "      <td>USD</td>\n",
       "      <td>2016-04-01 13:38:27</td>\n",
       "      <td>50000</td>\n",
       "      <td>2016-02-26 13:38:27</td>\n",
       "      <td>52375</td>\n",
       "      <td>successful</td>\n",
       "      <td>224</td>\n",
       "      <td>US</td>\n",
       "      <td>52375</td>\n",
       "      <td>NaN</td>\n",
       "      <td>NaN</td>\n",
       "      <td>NaN</td>\n",
       "      <td>NaN</td>\n",
       "    </tr>\n",
       "  </tbody>\n",
       "</table>\n",
       "</div>"
      ],
      "text/plain": [
       "          ID                                               name   \\\n",
       "0  1000002330                    The Songs of Adelaide & Abullah   \n",
       "1  1000004038                                     Where is Hank?   \n",
       "2  1000007540  ToshiCapital Rekordz Needs Help to Complete Album   \n",
       "3  1000011046  Community Film Project: The Art of Neighborhoo...   \n",
       "4  1000014025                               Monarch Espresso Bar   \n",
       "\n",
       "        category  main_category  currency             deadline   goal   \\\n",
       "0          Poetry     Publishing       GBP  2015-10-09 11:36:00   1000   \n",
       "1  Narrative Film   Film & Video       USD  2013-02-26 00:20:50  45000   \n",
       "2           Music          Music       USD  2012-04-16 04:24:11   5000   \n",
       "3    Film & Video   Film & Video       USD  2015-08-29 01:00:00  19500   \n",
       "4     Restaurants           Food       USD  2016-04-01 13:38:27  50000   \n",
       "\n",
       "             launched  pledged       state  backers  country  usd pledged   \\\n",
       "0  2015-08-11 12:12:28        0      failed        0       GB            0   \n",
       "1  2013-01-12 00:20:50      220      failed        3       US          220   \n",
       "2  2012-03-17 03:24:11        1      failed        1       US            1   \n",
       "3  2015-07-04 08:35:03     1283    canceled       14       US         1283   \n",
       "4  2016-02-26 13:38:27    52375  successful      224       US        52375   \n",
       "\n",
       "  Unnamed: 13 Unnamed: 14 Unnamed: 15  Unnamed: 16  \n",
       "0         NaN         NaN         NaN          NaN  \n",
       "1         NaN         NaN         NaN          NaN  \n",
       "2         NaN         NaN         NaN          NaN  \n",
       "3         NaN         NaN         NaN          NaN  \n",
       "4         NaN         NaN         NaN          NaN  "
      ]
     },
     "execution_count": 4,
     "metadata": {},
     "output_type": "execute_result"
    }
   ],
   "source": [
    "#Read data\n",
    "\n",
    "df = pd.read_csv(\"ks-projects-201612.csv\", encoding= 'cp1252', low_memory = False)\n",
    "df.head()"
   ]
  },
  {
   "cell_type": "code",
   "execution_count": 5,
   "metadata": {},
   "outputs": [
    {
     "data": {
      "text/html": [
       "<div>\n",
       "<style scoped>\n",
       "    .dataframe tbody tr th:only-of-type {\n",
       "        vertical-align: middle;\n",
       "    }\n",
       "\n",
       "    .dataframe tbody tr th {\n",
       "        vertical-align: top;\n",
       "    }\n",
       "\n",
       "    .dataframe thead th {\n",
       "        text-align: right;\n",
       "    }\n",
       "</style>\n",
       "<table border=\"1\" class=\"dataframe\">\n",
       "  <thead>\n",
       "    <tr style=\"text-align: right;\">\n",
       "      <th></th>\n",
       "      <th>ID</th>\n",
       "      <th>name</th>\n",
       "      <th>category</th>\n",
       "      <th>main_category</th>\n",
       "      <th>currency</th>\n",
       "      <th>deadline</th>\n",
       "      <th>goal</th>\n",
       "      <th>launched</th>\n",
       "      <th>pledged</th>\n",
       "      <th>state</th>\n",
       "      <th>backers</th>\n",
       "      <th>country</th>\n",
       "      <th>usd pledged</th>\n",
       "      <th>Unnamed: 13</th>\n",
       "      <th>Unnamed: 14</th>\n",
       "      <th>Unnamed: 15</th>\n",
       "      <th>Unnamed: 16</th>\n",
       "    </tr>\n",
       "  </thead>\n",
       "  <tbody>\n",
       "    <tr>\n",
       "      <th>36671</th>\n",
       "      <td>1218074363</td>\n",
       "      <td>I am Rupert</td>\n",
       "      <td>NaN</td>\n",
       "      <td>Webseries</td>\n",
       "      <td>Film &amp; Video</td>\n",
       "      <td>GBP</td>\n",
       "      <td>2014-05-16 22:25:57</td>\n",
       "      <td>2000</td>\n",
       "      <td>2014-03-27 21:25:57</td>\n",
       "      <td>5</td>\n",
       "      <td>failed</td>\n",
       "      <td>1</td>\n",
       "      <td>GB</td>\n",
       "      <td>8.26779725</td>\n",
       "      <td>NaN</td>\n",
       "      <td>NaN</td>\n",
       "      <td>NaN</td>\n",
       "    </tr>\n",
       "    <tr>\n",
       "      <th>41069</th>\n",
       "      <td>124438738</td>\n",
       "      <td>BlanketPals TM</td>\n",
       "      <td>NaN</td>\n",
       "      <td>Interactive Design</td>\n",
       "      <td>Design</td>\n",
       "      <td>USD</td>\n",
       "      <td>2015-03-25 20:51:48</td>\n",
       "      <td>9750</td>\n",
       "      <td>2015-02-23 21:51:48</td>\n",
       "      <td>10890.45</td>\n",
       "      <td>successful</td>\n",
       "      <td>107</td>\n",
       "      <td>US</td>\n",
       "      <td>10890.45</td>\n",
       "      <td>NaN</td>\n",
       "      <td>NaN</td>\n",
       "      <td>NaN</td>\n",
       "    </tr>\n",
       "    <tr>\n",
       "      <th>63544</th>\n",
       "      <td>1378236004</td>\n",
       "      <td>{string&amp;&amp;loop} Knitting Craft with Code</td>\n",
       "      <td>NaN</td>\n",
       "      <td>Apparel</td>\n",
       "      <td>Fashion</td>\n",
       "      <td>USD</td>\n",
       "      <td>2016-05-28 00:00:00</td>\n",
       "      <td>1800</td>\n",
       "      <td>2016-04-29 21:04:40</td>\n",
       "      <td>2308</td>\n",
       "      <td>successful</td>\n",
       "      <td>119</td>\n",
       "      <td>US</td>\n",
       "      <td>2308</td>\n",
       "      <td>NaN</td>\n",
       "      <td>NaN</td>\n",
       "      <td>NaN</td>\n",
       "    </tr>\n",
       "    <tr>\n",
       "      <th>96753</th>\n",
       "      <td>1574873938</td>\n",
       "      <td>American Pin-up Revisitedd</td>\n",
       "      <td>NaN</td>\n",
       "      <td>Art</td>\n",
       "      <td>Art</td>\n",
       "      <td>USD</td>\n",
       "      <td>2014-04-03 17:52:09</td>\n",
       "      <td>7500</td>\n",
       "      <td>2014-03-04 17:52:09</td>\n",
       "      <td>100</td>\n",
       "      <td>failed</td>\n",
       "      <td>1</td>\n",
       "      <td>US</td>\n",
       "      <td>100</td>\n",
       "      <td>NaN</td>\n",
       "      <td>NaN</td>\n",
       "      <td>NaN</td>\n",
       "    </tr>\n",
       "    <tr>\n",
       "      <th>142830</th>\n",
       "      <td>1848699072</td>\n",
       "      <td>NaN</td>\n",
       "      <td>Narrative Film</td>\n",
       "      <td>Film &amp; Video</td>\n",
       "      <td>USD</td>\n",
       "      <td>2012-02-29 15:04:00</td>\n",
       "      <td>200000</td>\n",
       "      <td>2012-01-01 12:35:31</td>\n",
       "      <td>100</td>\n",
       "      <td>failed</td>\n",
       "      <td>1</td>\n",
       "      <td>US</td>\n",
       "      <td>100</td>\n",
       "      <td>NaN</td>\n",
       "      <td>NaN</td>\n",
       "      <td>NaN</td>\n",
       "      <td>NaN</td>\n",
       "    </tr>\n",
       "    <tr>\n",
       "      <th>262901</th>\n",
       "      <td>634871725</td>\n",
       "      <td>NaN</td>\n",
       "      <td>Video Games</td>\n",
       "      <td>Games</td>\n",
       "      <td>GBP</td>\n",
       "      <td>2013-01-06 23:00:00</td>\n",
       "      <td>2000</td>\n",
       "      <td>2012-12-19 23:57:48</td>\n",
       "      <td>196</td>\n",
       "      <td>failed</td>\n",
       "      <td>12</td>\n",
       "      <td>GB</td>\n",
       "      <td>317.7284362</td>\n",
       "      <td>NaN</td>\n",
       "      <td>NaN</td>\n",
       "      <td>NaN</td>\n",
       "      <td>NaN</td>\n",
       "    </tr>\n",
       "    <tr>\n",
       "      <th>265251</th>\n",
       "      <td>648853978</td>\n",
       "      <td>NaN</td>\n",
       "      <td>Product Design</td>\n",
       "      <td>Design</td>\n",
       "      <td>USD</td>\n",
       "      <td>2016-07-18 05:01:47</td>\n",
       "      <td>2500</td>\n",
       "      <td>2016-06-18 05:01:47</td>\n",
       "      <td>0</td>\n",
       "      <td>suspended</td>\n",
       "      <td>0</td>\n",
       "      <td>US</td>\n",
       "      <td>0</td>\n",
       "      <td>NaN</td>\n",
       "      <td>NaN</td>\n",
       "      <td>NaN</td>\n",
       "      <td>NaN</td>\n",
       "    </tr>\n",
       "    <tr>\n",
       "      <th>269930</th>\n",
       "      <td>676846639</td>\n",
       "      <td>Uplift: The Wearable iPhone Case with Zipline&amp;...</td>\n",
       "      <td>NaN</td>\n",
       "      <td>Design</td>\n",
       "      <td>Design</td>\n",
       "      <td>USD</td>\n",
       "      <td>2011-04-04 20:08:17</td>\n",
       "      <td>50000</td>\n",
       "      <td>2011-03-05 20:08:17</td>\n",
       "      <td>1665</td>\n",
       "      <td>canceled</td>\n",
       "      <td>10</td>\n",
       "      <td>US</td>\n",
       "      <td>1665</td>\n",
       "      <td>NaN</td>\n",
       "      <td>NaN</td>\n",
       "      <td>NaN</td>\n",
       "    </tr>\n",
       "    <tr>\n",
       "      <th>289847</th>\n",
       "      <td>796533179</td>\n",
       "      <td>NaN</td>\n",
       "      <td>Painting</td>\n",
       "      <td>Art</td>\n",
       "      <td>USD</td>\n",
       "      <td>2011-12-05 05:59:00</td>\n",
       "      <td>35000</td>\n",
       "      <td>2011-11-06 23:55:55</td>\n",
       "      <td>220</td>\n",
       "      <td>failed</td>\n",
       "      <td>5</td>\n",
       "      <td>US</td>\n",
       "      <td>220</td>\n",
       "      <td>NaN</td>\n",
       "      <td>NaN</td>\n",
       "      <td>NaN</td>\n",
       "      <td>NaN</td>\n",
       "    </tr>\n",
       "  </tbody>\n",
       "</table>\n",
       "</div>"
      ],
      "text/plain": [
       "                ID                                               name  \\\n",
       "36671   1218074363                                        I am Rupert   \n",
       "41069    124438738                                     BlanketPals TM   \n",
       "63544   1378236004            {string&&loop} Knitting Craft with Code   \n",
       "96753   1574873938                         American Pin-up Revisitedd   \n",
       "142830  1848699072                                                NaN   \n",
       "262901   634871725                                                NaN   \n",
       "265251   648853978                                                NaN   \n",
       "269930   676846639  Uplift: The Wearable iPhone Case with Zipline&...   \n",
       "289847   796533179                                                NaN   \n",
       "\n",
       "              category       main_category      currency             deadline  \\\n",
       "36671              NaN           Webseries  Film & Video                  GBP   \n",
       "41069              NaN  Interactive Design        Design                  USD   \n",
       "63544              NaN             Apparel       Fashion                  USD   \n",
       "96753              NaN                 Art           Art                  USD   \n",
       "142830  Narrative Film        Film & Video           USD  2012-02-29 15:04:00   \n",
       "262901     Video Games               Games           GBP  2013-01-06 23:00:00   \n",
       "265251  Product Design              Design           USD  2016-07-18 05:01:47   \n",
       "269930             NaN              Design        Design                  USD   \n",
       "289847        Painting                 Art           USD  2011-12-05 05:59:00   \n",
       "\n",
       "                       goal             launched              pledged  \\\n",
       "36671   2014-05-16 22:25:57                 2000  2014-03-27 21:25:57   \n",
       "41069   2015-03-25 20:51:48                 9750  2015-02-23 21:51:48   \n",
       "63544   2016-05-28 00:00:00                 1800  2016-04-29 21:04:40   \n",
       "96753   2014-04-03 17:52:09                 7500  2014-03-04 17:52:09   \n",
       "142830               200000  2012-01-01 12:35:31                  100   \n",
       "262901                 2000  2012-12-19 23:57:48                  196   \n",
       "265251                 2500  2016-06-18 05:01:47                    0   \n",
       "269930  2011-04-04 20:08:17                50000  2011-03-05 20:08:17   \n",
       "289847                35000  2011-11-06 23:55:55                  220   \n",
       "\n",
       "            state     backers country  usd pledged Unnamed: 13 Unnamed: 14  \\\n",
       "36671           5      failed       1           GB  8.26779725         NaN   \n",
       "41069    10890.45  successful     107           US    10890.45         NaN   \n",
       "63544        2308  successful     119           US        2308         NaN   \n",
       "96753         100      failed       1           US         100         NaN   \n",
       "142830     failed           1      US          100         NaN         NaN   \n",
       "262901     failed          12      GB  317.7284362         NaN         NaN   \n",
       "265251  suspended           0      US            0         NaN         NaN   \n",
       "269930       1665    canceled      10           US        1665         NaN   \n",
       "289847     failed           5      US          220         NaN         NaN   \n",
       "\n",
       "       Unnamed: 15  Unnamed: 16  \n",
       "36671          NaN          NaN  \n",
       "41069          NaN          NaN  \n",
       "63544          NaN          NaN  \n",
       "96753          NaN          NaN  \n",
       "142830         NaN          NaN  \n",
       "262901         NaN          NaN  \n",
       "265251         NaN          NaN  \n",
       "269930         NaN          NaN  \n",
       "289847         NaN          NaN  "
      ]
     },
     "execution_count": 5,
     "metadata": {},
     "output_type": "execute_result"
    }
   ],
   "source": [
    "#Strip out while spaces \n",
    "df.columns = [x.strip() for x in df.columns.tolist()]\n",
    "\n",
    "#Check 'name' column, 'category' column, and 'ID' contain Null value\n",
    "\n",
    "df[(df['name'].isnull()) | (df['category'].isnull()) | (df['ID'].isnull())]"
   ]
  },
  {
   "cell_type": "code",
   "execution_count": 6,
   "metadata": {},
   "outputs": [
    {
     "data": {
      "text/html": [
       "<div>\n",
       "<style scoped>\n",
       "    .dataframe tbody tr th:only-of-type {\n",
       "        vertical-align: middle;\n",
       "    }\n",
       "\n",
       "    .dataframe tbody tr th {\n",
       "        vertical-align: top;\n",
       "    }\n",
       "\n",
       "    .dataframe thead th {\n",
       "        text-align: right;\n",
       "    }\n",
       "</style>\n",
       "<table border=\"1\" class=\"dataframe\">\n",
       "  <thead>\n",
       "    <tr style=\"text-align: right;\">\n",
       "      <th></th>\n",
       "      <th>ID</th>\n",
       "      <th>name</th>\n",
       "      <th>category</th>\n",
       "      <th>main_category</th>\n",
       "      <th>currency</th>\n",
       "      <th>deadline</th>\n",
       "      <th>goal</th>\n",
       "      <th>launched</th>\n",
       "      <th>pledged</th>\n",
       "      <th>state</th>\n",
       "      <th>backers</th>\n",
       "      <th>country</th>\n",
       "      <th>usd pledged</th>\n",
       "    </tr>\n",
       "  </thead>\n",
       "  <tbody>\n",
       "    <tr>\n",
       "      <th>0</th>\n",
       "      <td>1000002330</td>\n",
       "      <td>The Songs of Adelaide &amp; Abullah</td>\n",
       "      <td>Poetry</td>\n",
       "      <td>Publishing</td>\n",
       "      <td>GBP</td>\n",
       "      <td>2015-10-09 11:36:00</td>\n",
       "      <td>1000</td>\n",
       "      <td>2015-08-11 12:12:28</td>\n",
       "      <td>0</td>\n",
       "      <td>failed</td>\n",
       "      <td>0</td>\n",
       "      <td>GB</td>\n",
       "      <td>0</td>\n",
       "    </tr>\n",
       "    <tr>\n",
       "      <th>1</th>\n",
       "      <td>1000004038</td>\n",
       "      <td>Where is Hank?</td>\n",
       "      <td>Narrative Film</td>\n",
       "      <td>Film &amp; Video</td>\n",
       "      <td>USD</td>\n",
       "      <td>2013-02-26 00:20:50</td>\n",
       "      <td>45000</td>\n",
       "      <td>2013-01-12 00:20:50</td>\n",
       "      <td>220</td>\n",
       "      <td>failed</td>\n",
       "      <td>3</td>\n",
       "      <td>US</td>\n",
       "      <td>220</td>\n",
       "    </tr>\n",
       "    <tr>\n",
       "      <th>2</th>\n",
       "      <td>1000007540</td>\n",
       "      <td>ToshiCapital Rekordz Needs Help to Complete Album</td>\n",
       "      <td>Music</td>\n",
       "      <td>Music</td>\n",
       "      <td>USD</td>\n",
       "      <td>2012-04-16 04:24:11</td>\n",
       "      <td>5000</td>\n",
       "      <td>2012-03-17 03:24:11</td>\n",
       "      <td>1</td>\n",
       "      <td>failed</td>\n",
       "      <td>1</td>\n",
       "      <td>US</td>\n",
       "      <td>1</td>\n",
       "    </tr>\n",
       "    <tr>\n",
       "      <th>3</th>\n",
       "      <td>1000011046</td>\n",
       "      <td>Community Film Project: The Art of Neighborhoo...</td>\n",
       "      <td>Film &amp; Video</td>\n",
       "      <td>Film &amp; Video</td>\n",
       "      <td>USD</td>\n",
       "      <td>2015-08-29 01:00:00</td>\n",
       "      <td>19500</td>\n",
       "      <td>2015-07-04 08:35:03</td>\n",
       "      <td>1283</td>\n",
       "      <td>canceled</td>\n",
       "      <td>14</td>\n",
       "      <td>US</td>\n",
       "      <td>1283</td>\n",
       "    </tr>\n",
       "    <tr>\n",
       "      <th>4</th>\n",
       "      <td>1000014025</td>\n",
       "      <td>Monarch Espresso Bar</td>\n",
       "      <td>Restaurants</td>\n",
       "      <td>Food</td>\n",
       "      <td>USD</td>\n",
       "      <td>2016-04-01 13:38:27</td>\n",
       "      <td>50000</td>\n",
       "      <td>2016-02-26 13:38:27</td>\n",
       "      <td>52375</td>\n",
       "      <td>successful</td>\n",
       "      <td>224</td>\n",
       "      <td>US</td>\n",
       "      <td>52375</td>\n",
       "    </tr>\n",
       "  </tbody>\n",
       "</table>\n",
       "</div>"
      ],
      "text/plain": [
       "           ID                                               name  \\\n",
       "0  1000002330                    The Songs of Adelaide & Abullah   \n",
       "1  1000004038                                     Where is Hank?   \n",
       "2  1000007540  ToshiCapital Rekordz Needs Help to Complete Album   \n",
       "3  1000011046  Community Film Project: The Art of Neighborhoo...   \n",
       "4  1000014025                               Monarch Espresso Bar   \n",
       "\n",
       "         category main_category currency             deadline   goal  \\\n",
       "0          Poetry    Publishing      GBP  2015-10-09 11:36:00   1000   \n",
       "1  Narrative Film  Film & Video      USD  2013-02-26 00:20:50  45000   \n",
       "2           Music         Music      USD  2012-04-16 04:24:11   5000   \n",
       "3    Film & Video  Film & Video      USD  2015-08-29 01:00:00  19500   \n",
       "4     Restaurants          Food      USD  2016-04-01 13:38:27  50000   \n",
       "\n",
       "              launched pledged       state backers country usd pledged  \n",
       "0  2015-08-11 12:12:28       0      failed       0      GB           0  \n",
       "1  2013-01-12 00:20:50     220      failed       3      US         220  \n",
       "2  2012-03-17 03:24:11       1      failed       1      US           1  \n",
       "3  2015-07-04 08:35:03    1283    canceled      14      US        1283  \n",
       "4  2016-02-26 13:38:27   52375  successful     224      US       52375  "
      ]
     },
     "execution_count": 6,
     "metadata": {},
     "output_type": "execute_result"
    }
   ],
   "source": [
    "#Drop all the rows that contain Null value\n",
    "df = df.dropna(axis=0, subset=['ID', 'name', 'category'])\n",
    "\n",
    "#Delete last four columns\n",
    "df = df.iloc[:,:-4]\n",
    "\n",
    "df.head()"
   ]
  },
  {
   "cell_type": "code",
   "execution_count": 7,
   "metadata": {},
   "outputs": [
    {
     "name": "stdout",
     "output_type": "stream",
     "text": [
      "Film & Video        57678\n",
      "Music               46744\n",
      "Publishing          34233\n",
      "Games               28007\n",
      "Technology          26128\n",
      "Art                 23973\n",
      "Design              23870\n",
      "Food                21229\n",
      "Fashion             18398\n",
      "Theater              9972\n",
      "Photography          9680\n",
      "Comics               8753\n",
      "Crafts               7187\n",
      "Journalism           4073\n",
      "Dance                3375\n",
      "Fiction                35\n",
      "Product Design         29\n",
      "Documentary            28\n",
      "Nonfiction             27\n",
      "Children's Books       18\n",
      "Tabletop Games         14\n",
      "Shorts                 13\n",
      "Video Games            12\n",
      "Mixed Media            11\n",
      "Art Books              10\n",
      "Apparel                 9\n",
      "Web                     8\n",
      "Narrative Film          8\n",
      "Hip-Hop                 7\n",
      "Country & Folk          7\n",
      "Name: main_category, dtype: int64\n"
     ]
    }
   ],
   "source": [
    "#Check 30 top main categories\n",
    "m = df.main_category.value_counts().head(30)\n",
    "print(m)"
   ]
  },
  {
   "cell_type": "code",
   "execution_count": 8,
   "metadata": {},
   "outputs": [
    {
     "data": {
      "image/png": "[encoded data removed]",
      "text/plain": [
       "<Figure size 432x288 with 1 Axes>"
      ]
     },
     "metadata": {},
     "output_type": "display_data"
    }
   ],
   "source": [
    "sns.set_style('darkgrid')\n",
    "\n",
    "#pick top 20 instead\n",
    "m = df.main_category.value_counts().head(20)\n",
    "\n",
    "x = m.values\n",
    "y = m.index\n",
    "\n",
    "ax = sns.barplot(y=y, x=x, palette=\"cool_d\", alpha=0.5)\n",
    "\n",
    "\n",
    "plt.title('Kickstarter Top 20 Category Count', fontsize=20)\n",
    "plt.show()"
   ]
  },
  {
   "cell_type": "code",
   "execution_count": 9,
   "metadata": {},
   "outputs": [],
   "source": [
    "#chech currency used and rank by the frequency"
   ]
  },
  {
   "cell_type": "code",
   "execution_count": 10,
   "metadata": {},
   "outputs": [],
   "source": [
    "c = df.currency.value_counts().head(5)"
   ]
  },
  {
   "cell_type": "code",
   "execution_count": 11,
   "metadata": {},
   "outputs": [
    {
     "data": {
      "image/png": "[encoded data removed]",
      "text/plain": [
       "<Figure size 432x288 with 1 Axes>"
      ]
     },
     "metadata": {},
     "output_type": "display_data"
    }
   ],
   "source": [
    "labels = c.index\n",
    "sizes = c.values\n",
    "\n",
    "colors = ['gold', 'yellowgreen', 'lightcoral', 'lightskyblue', 'blue']\n",
    "explode = (0, 0, 0, 0, 0)  # explode 1st slice\n",
    " \n",
    "plt.title('Top 5 Currencies in Kickstarter', fontsize=20)\n",
    "patches, texts = plt.pie(sizes, labels = labels, startangle=210)\n",
    "plt.legend(patches, labels, loc=\"best\")\n",
    "plt.axis('equal')\n",
    "plt.tight_layout()\n",
    "plt.show()"
   ]
  },
  {
   "cell_type": "code",
   "execution_count": 12,
   "metadata": {},
   "outputs": [],
   "source": [
    "#check countries that use kickstarter and rank them "
   ]
  },
  {
   "cell_type": "code",
   "execution_count": 13,
   "metadata": {},
   "outputs": [],
   "source": [
    "#Data cleaning\n",
    "df[~df.country.str.contains('^[A-Z]{2}$', case=False)].country.value_counts()\n",
    "replace = df[~df.country.str.contains('^[A-Z]{2}$', case=False)].country.unique().tolist()\n",
    "df.loc[:,'country'] = df.country.replace(to_replace=replace, value='None')"
   ]
  },
  {
   "cell_type": "code",
   "execution_count": 14,
   "metadata": {},
   "outputs": [],
   "source": [
    "m = df.country.value_counts().head(10)"
   ]
  },
  {
   "cell_type": "code",
   "execution_count": 15,
   "metadata": {},
   "outputs": [
    {
     "data": {
      "image/png": "[encoded data removed]",
      "text/plain": [
       "<Figure size 432x288 with 1 Axes>"
      ]
     },
     "metadata": {},
     "output_type": "display_data"
    }
   ],
   "source": [
    "sns.set_style('white')\n",
    "\n",
    "x = m.values\n",
    "y = m.index\n",
    "\n",
    "ax = sns.barplot(y=y, x=x, palette=\"hls\", alpha=0.5)\n",
    "\n",
    "plt.title('Kickstarter Top 10 Country Count', fontsize=20)\n",
    "plt.show()"
   ]
  },
  {
   "cell_type": "code",
   "execution_count": 16,
   "metadata": {},
   "outputs": [],
   "source": [
    "#Check the counts of projects with various successful status"
   ]
  },
  {
   "cell_type": "code",
   "execution_count": 17,
   "metadata": {},
   "outputs": [
    {
     "name": "stdout",
     "output_type": "stream",
     "text": [
      "failed        168218\n",
      "successful    113081\n",
      "canceled       32354\n",
      "live            4428\n",
      "undefined       3555\n",
      "suspended       1478\n",
      "Name: state, dtype: int64\n"
     ]
    }
   ],
   "source": [
    "m = df.state.value_counts().head(10)\n",
    "print(df['state'].value_counts(dropna=True).head(6))"
   ]
  },
  {
   "cell_type": "code",
   "execution_count": 18,
   "metadata": {},
   "outputs": [
    {
     "data": {
      "image/png": "[encoded data removed]",
      "text/plain": [
       "<Figure size 432x288 with 1 Axes>"
      ]
     },
     "metadata": {},
     "output_type": "display_data"
    }
   ],
   "source": [
    "x = m.values\n",
    "y = m.index\n",
    "ax = sns.barplot(y=x, x=y, palette=\"cool_r\", alpha=0.8)\n",
    "\n",
    "plt.title('Kickstarter Success Rate Comparison', fontsize=20)\n",
    "plt.show()"
   ]
  },
  {
   "cell_type": "code",
   "execution_count": 19,
   "metadata": {},
   "outputs": [],
   "source": [
    "#plot relationship between two columns of scuess status and amount of USD pledged.\n"
   ]
  },
  {
   "cell_type": "code",
   "execution_count": 20,
   "metadata": {},
   "outputs": [
    {
     "data": {
      "text/plain": [
       "<matplotlib.axes._subplots.AxesSubplot at 0x1a1ff06780>"
      ]
     },
     "execution_count": 20,
     "metadata": {},
     "output_type": "execute_result"
    },
    {
     "data": {
      "image/png": "[encoded data removed]",
      "text/plain": [
       "<Figure size 432x288 with 1 Axes>"
      ]
     },
     "metadata": {},
     "output_type": "display_data"
    }
   ],
   "source": [
    "#Convert str to float\n",
    "df['goal'] = pd.to_numeric(df.goal, downcast='float', errors='coerce')\n",
    "\n",
    "import matplotlib.style as style\n",
    "style.use('dark_background')\n",
    "df[['state','goal']].plot(title = 'Relationship between success status and Amount of USD Pledged', fontsize= 8)"
   ]
  },
  {
   "cell_type": "code",
   "execution_count": 21,
   "metadata": {},
   "outputs": [],
   "source": [
    "#According the graphs above, we can see the strong relations between the success rate of the goal\n",
    "#and the amount of USD Pledged. We then will peform a linear regression model to obtain the baseline accuracy."
   ]
  },
  {
   "cell_type": "code",
   "execution_count": 22,
   "metadata": {},
   "outputs": [],
   "source": [
    "#Data Transformation"
   ]
  },
  {
   "cell_type": "code",
   "execution_count": 23,
   "metadata": {},
   "outputs": [],
   "source": [
    "#Convert str to float\n",
    "#df['goal'] = pd.to_numeric(df.goal, downcast='float', errors='coerce')\n",
    "df.loc[:,'usd pledged'] = pd.to_numeric(df['usd pledged'], downcast='float', errors='coerce')\n",
    "\n",
    "#Convert datetime\n",
    "for col in ['launched', 'deadline']:\n",
    "    df.loc[:,col] = pd.to_datetime(df[col], errors='coerce')\n",
    "\n",
    "#Drop all Null Values \n",
    "df = df.dropna()\n",
    "\n",
    "\n",
    "df = df.rename(index=str, columns={'usd pledged': 'usd_pledged'})\n",
    "df = df[df.usd_pledged > 0]"
   ]
  },
  {
   "cell_type": "code",
   "execution_count": 24,
   "metadata": {},
   "outputs": [
    {
     "name": "stdout",
     "output_type": "stream",
     "text": [
      "Index(['ID', 'name', 'category', 'main_category', 'currency', 'deadline',\n",
      "       'goal', 'launched', 'pledged', 'state', 'backers', 'country',\n",
      "       'usd_pledged'],\n",
      "      dtype='object')\n"
     ]
    }
   ],
   "source": [
    "features = df.copy()\n",
    "\n",
    "#Rename Column\n",
    "\n",
    "features = features.rename(index=str, columns={'usd pledged': 'usd_pledged'})\n",
    "print(features.columns)\n"
   ]
  },
  {
   "cell_type": "code",
   "execution_count": 25,
   "metadata": {},
   "outputs": [],
   "source": [
    "#Features Extracting\n",
    "\n",
    "features.drop(columns = ['launched'])\n",
    "features['length_chars'] = features.name.str.len()\n",
    "features['contains_title'] = pd.get_dummies(features.name.str.istitle(), drop_first=True)\n",
    "features['US'] = np.where(features.country=='US', 1,0)\n",
    "features['success'] = np.where(features.state == 'successful', 1, 0)\n",
    "features['log_goal'] = np.log10(features.goal)\n",
    "features['log_usd_pledged'] = np.log10(features.usd_pledged)\n",
    "features['time_delta'] = (features.deadline.dt.date - features.launched.dt.date).dt.days\n",
    "\n",
    "#Select specific columns\n",
    "\n",
    "features = features.iloc[:,15:]"
   ]
  },
  {
   "cell_type": "code",
   "execution_count": 26,
   "metadata": {},
   "outputs": [
    {
     "name": "stdout",
     "output_type": "stream",
     "text": [
      "Coefficients: \n",
      " [ 0.2419323   0.34431318 -0.00609185]\n",
      "\n",
      "Intercept: \n",
      " 1.588777658311161\n",
      "\n",
      "R-squared: \n",
      "0.055381299247773456\n"
     ]
    }
   ],
   "source": [
    "from sklearn import linear_model\n",
    "\n",
    "regression = linear_model.LinearRegression()\n",
    "Y = features[('log_usd_pledged')]\n",
    "X = features.drop(['log_usd_pledged', 'success'], axis=1)\n",
    "regression.fit(X, Y)\n",
    "\n",
    "print('Coefficients: \\n', regression.coef_)\n",
    "print('\\nIntercept: \\n', regression.intercept_)\n",
    "print('\\nR-squared: ')\n",
    "print(regression.score(X, Y))"
   ]
  },
  {
   "cell_type": "code",
   "execution_count": 27,
   "metadata": {},
   "outputs": [],
   "source": [
    "#As the amount predicted increases, the residual error also increases."
   ]
  },
  {
   "cell_type": "code",
   "execution_count": 28,
   "metadata": {},
   "outputs": [],
   "source": [
    "# Drop Log USD Pledged\n",
    "features = features.drop(['log_usd_pledged'], 1)\n",
    "\n",
    "#Set Traing and Testing data\n",
    "X = features.drop(['success'], 1)\n",
    "y = features.success\n",
    "\n",
    "X_train, X_test, y_train, y_test = train_test_split(X, y, test_size=0.33, random_state=0)"
   ]
  },
  {
   "cell_type": "code",
   "execution_count": 29,
   "metadata": {},
   "outputs": [],
   "source": [
    "#PCA (Data reduction)"
   ]
  },
  {
   "cell_type": "code",
   "execution_count": 30,
   "metadata": {},
   "outputs": [
    {
     "name": "stdout",
     "output_type": "stream",
     "text": [
      "PCA Variance Ratio:  [9.95998925e-01 3.08939110e-03 9.11683883e-04]\n",
      "\n",
      "PCA Singular Values:  [6607.48928947  367.99632226  199.90753847]\n"
     ]
    }
   ],
   "source": [
    "X_pca = features.drop('success', 1)\n",
    "sklearn_pca = PCA(n_components=3)\n",
    "sklearn_pca.fit_transform(X_pca)\n",
    "\n",
    "print('PCA Variance Ratio: ', sklearn_pca.explained_variance_ratio_)\n",
    "print('\\nPCA Singular Values: ', sklearn_pca.singular_values_)"
   ]
  },
  {
   "cell_type": "code",
   "execution_count": 31,
   "metadata": {},
   "outputs": [],
   "source": [
    "#Compare sucess rate"
   ]
  },
  {
   "cell_type": "code",
   "execution_count": 32,
   "metadata": {},
   "outputs": [
    {
     "name": "stderr",
     "output_type": "stream",
     "text": [
      "/anaconda3/lib/python3.6/site-packages/scipy/stats/stats.py:1713: FutureWarning: Using a non-tuple sequence for multidimensional indexing is deprecated; use `arr[tuple(seq)]` instead of `arr[seq]`. In the future this will be interpreted as an array index, `arr[np.array(seq)]`, which will result either in an error or a different result.\n",
      "  return np.add.reduce(sorted[indexer] * weights, axis=axis) / sumval\n"
     ]
    },
    {
     "data": {
      "image/png": "[encoded data removed]",
      "text/plain": [
       "<Figure size 432x288 with 1 Axes>"
      ]
     },
     "metadata": {},
     "output_type": "display_data"
    }
   ],
   "source": [
    "s_value = df['state'].values\n",
    "u_value = df['usd_pledged'].values\n",
    "\n",
    "ax = sns.barplot(y=s_value, x=u_value, palette=\"Reds_r\", alpha=0.8)\n",
    "sns.set_style('darkgrid')\n",
    "\n",
    "plt.title('Kickstarter Success Rate Comparison', fontsize=20)\n",
    "plt.show()"
   ]
  },
  {
   "cell_type": "code",
   "execution_count": 33,
   "metadata": {},
   "outputs": [],
   "source": [
    "#Machine Learning Model "
   ]
  },
  {
   "cell_type": "code",
   "execution_count": 34,
   "metadata": {},
   "outputs": [],
   "source": [
    "#Random Forest"
   ]
  },
  {
   "cell_type": "code",
   "execution_count": 35,
   "metadata": {},
   "outputs": [
    {
     "name": "stdout",
     "output_type": "stream",
     "text": [
      "Random Forest Testing Accuracy: 0.6254\n"
     ]
    }
   ],
   "source": [
    "rf = ensemble.RandomForestClassifier(n_jobs=-1, n_estimators=100)\n",
    "rf.fit(X_train, y_train)\n",
    "rf_score = rf.score(X_test, y_test)\n",
    "\n",
    "print('Random Forest Testing Accuracy: {:.4f}'.format(rf_score))"
   ]
  },
  {
   "cell_type": "code",
   "execution_count": 36,
   "metadata": {},
   "outputs": [
    {
     "data": {
      "text/plain": [
       "[('US',), ('log_goal',), ('time_delta',)]"
      ]
     },
     "execution_count": 36,
     "metadata": {},
     "output_type": "execute_result"
    }
   ],
   "source": [
    "list(zip(X_train.columns))"
   ]
  },
  {
   "cell_type": "code",
   "execution_count": 37,
   "metadata": {},
   "outputs": [
    {
     "data": {
      "text/plain": [
       "[('US',), ('log_goal',), ('time_delta',)]"
      ]
     },
     "execution_count": 37,
     "metadata": {},
     "output_type": "execute_result"
    }
   ],
   "source": [
    "list(zip(X_test.columns))"
   ]
  },
  {
   "cell_type": "code",
   "execution_count": 38,
   "metadata": {},
   "outputs": [],
   "source": [
    "#Machine Learning Model 2 Logistic Regression"
   ]
  },
  {
   "cell_type": "code",
   "execution_count": 39,
   "metadata": {},
   "outputs": [
    {
     "name": "stdout",
     "output_type": "stream",
     "text": [
      "Logistic Regression Testing Accuracy: 0.6261\n"
     ]
    }
   ],
   "source": [
    "lr = LogisticRegression(penalty='l2', solver='liblinear')\n",
    "fit = lr.fit(X_train, y_train)\n",
    "lr_score = lr.score(X_test, y_test)\n",
    "\n",
    "print('Logistic Regression Testing Accuracy: {:.4f}'.format(lr_score))\n"
   ]
  },
  {
   "cell_type": "code",
   "execution_count": 40,
   "metadata": {},
   "outputs": [
    {
     "data": {
      "text/plain": [
       "[('US',), ('log_goal',), ('time_delta',)]"
      ]
     },
     "execution_count": 40,
     "metadata": {},
     "output_type": "execute_result"
    }
   ],
   "source": [
    "list(zip(X_train.columns))"
   ]
  },
  {
   "cell_type": "code",
   "execution_count": 41,
   "metadata": {},
   "outputs": [],
   "source": [
    "#Machine Learning Model 3 AdaBoost"
   ]
  },
  {
   "cell_type": "code",
   "execution_count": 42,
   "metadata": {},
   "outputs": [
    {
     "name": "stdout",
     "output_type": "stream",
     "text": [
      "AdaBoost Testing Accuracy: 0.6391\n"
     ]
    }
   ],
   "source": [
    "#The SAMME.R algorithm achieving a lower test error with fewer boosting iterations.\n",
    "\n",
    "ada = AdaBoostClassifier(DecisionTreeClassifier(max_depth=1), algorithm=\"SAMME.R\",n_estimators=100)\n",
    "ada.fit(X_train, y_train)\n",
    "ada_score= ada.score(X_test, y_test)\n",
    "\n",
    "print('AdaBoost Testing Accuracy: {:.4f}'.format(ada_score))\n"
   ]
  },
  {
   "cell_type": "code",
   "execution_count": 43,
   "metadata": {},
   "outputs": [],
   "source": [
    "#Machine Learning Model 4 KNN Clustering"
   ]
  },
  {
   "cell_type": "code",
   "execution_count": 44,
   "metadata": {},
   "outputs": [
    {
     "name": "stdout",
     "output_type": "stream",
     "text": [
      "KNN-Clustering Testing Accuracy: 0.6012\n"
     ]
    }
   ],
   "source": [
    "from sklearn.neighbors import KNeighborsClassifier\n",
    "\n",
    "knn = KNeighborsClassifier(n_neighbors=4, n_jobs=-1)\n",
    "knn.fit(X_train, y_train)\n",
    "knn_score = (knn.score(X_test, y_test))\n",
    "\n",
    "print('KNN-Clustering Testing Accuracy: {:.4f}'.format(knn_score))\n"
   ]
  },
  {
   "cell_type": "code",
   "execution_count": 45,
   "metadata": {},
   "outputs": [],
   "source": [
    "#Compare all the machine learning's accuracy"
   ]
  },
  {
   "cell_type": "code",
   "execution_count": 46,
   "metadata": {},
   "outputs": [
    {
     "data": {
      "image/png": "[encoded data removed]",
      "text/plain": [
       "<Figure size 432x288 with 1 Axes>"
      ]
     },
     "metadata": {},
     "output_type": "display_data"
    }
   ],
   "source": [
    "x = ['Random Forest', 'Logistic Regression', 'AdaBoost', 'KNN-Clustering']\n",
    "y = [rf_score, lr_score, ada_score, knn_score]\n",
    "\n",
    "\n",
    "ax = sns.barplot(y=y, x=x, palette=\"rainbow\", alpha=0.8)\n",
    "style.use('dark_background')\n",
    "\n",
    "def change_width(ax, new_value) :\n",
    "    for patch in ax.patches :\n",
    "        current_width = patch.get_width()\n",
    "        diff = current_width - new_value\n",
    "\n",
    "        # we change the bar width\n",
    "        patch.set_width(new_value)\n",
    "\n",
    "        # we recenter the bar\n",
    "        patch.set_x(patch.get_x() + diff * .5)\n",
    "\n",
    "change_width(ax, .35)\n",
    "plt.title('Testing Accuracy Comparison', fontsize=20)\n",
    "plt.show()"
   ]
  },
  {
   "cell_type": "code",
   "execution_count": null,
   "metadata": {},
   "outputs": [],
   "source": []
  },
  {
   "cell_type": "code",
   "execution_count": null,
   "metadata": {},
   "outputs": [],
   "source": []
  },
  {
   "cell_type": "code",
   "execution_count": null,
   "metadata": {},
   "outputs": [],
   "source": []
  },
  {
   "cell_type": "code",
   "execution_count": null,
   "metadata": {},
   "outputs": [],
   "source": []
  }
 ],
 "metadata": {
  "kernelspec": {
   "display_name": "Python 3",
   "language": "python",
   "name": "python3"
  },
  "language_info": {
   "codemirror_mode": {
    "name": "ipython",
    "version": 3
   },
   "file_extension": ".py",
   "mimetype": "text/x-python",
   "name": "python",
   "nbconvert_exporter": "python",
   "pygments_lexer": "ipython3",
   "version": "3.6.5"
  }
 },
 "nbformat": 4,
 "nbformat_minor": 2
}
